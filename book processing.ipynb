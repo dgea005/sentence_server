{
 "cells": [
  {
   "cell_type": "code",
   "execution_count": 1,
   "metadata": {
    "collapsed": true
   },
   "outputs": [],
   "source": [
    "from collections import defaultdict, Counter\n",
    "import pandas as pd\n",
    "import spacy\n",
    "from spacy.de import German"
   ]
  },
  {
   "cell_type": "code",
   "execution_count": 2,
   "metadata": {
    "collapsed": true
   },
   "outputs": [],
   "source": [
    "parser = German()"
   ]
  },
  {
   "cell_type": "code",
   "execution_count": 3,
   "metadata": {
    "collapsed": true
   },
   "outputs": [],
   "source": [
    "text = open('example_book.txt').read()"
   ]
  },
  {
   "cell_type": "markdown",
   "metadata": {},
   "source": [
    "from: \n",
    "\n",
    "http://stackoverflow.com/questions/37253326/how-to-find-the-most-common-words-using-spacy/37253693#37253693"
   ]
  },
  {
   "cell_type": "code",
   "execution_count": 4,
   "metadata": {
    "collapsed": false
   },
   "outputs": [],
   "source": [
    "doc = parser(text)"
   ]
  },
  {
   "cell_type": "code",
   "execution_count": 5,
   "metadata": {
    "collapsed": true
   },
   "outputs": [],
   "source": [
    "pos_counts = defaultdict(Counter)"
   ]
  },
  {
   "cell_type": "code",
   "execution_count": 6,
   "metadata": {
    "collapsed": true
   },
   "outputs": [],
   "source": [
    "## token.pos -- part of speech\n",
    "\n",
    "for token in doc:\n",
    "    pos_counts[token.pos][token.lower] += 1"
   ]
  },
  {
   "cell_type": "code",
   "execution_count": 7,
   "metadata": {
    "collapsed": false
   },
   "outputs": [],
   "source": [
    "\n",
    "\n",
    "pos_, count_, strings_ = [], [], []\n",
    "for pos_id, counts in sorted(pos_counts.items()):\n",
    "    pos = doc.vocab.strings[pos_id]\n",
    "    for orth_id, count in counts.most_common():\n",
    "        pos_.append(pos)\n",
    "        count_.append(count)\n",
    "        strings_.append(doc.vocab.strings[orth_id])"
   ]
  },
  {
   "cell_type": "code",
   "execution_count": 12,
   "metadata": {
    "collapsed": false
   },
   "outputs": [],
   "source": [
    "text_word_counts = pd.DataFrame({'pos':pos_, 'count': count_, 'word': strings_})"
   ]
  },
  {
   "cell_type": "code",
   "execution_count": 33,
   "metadata": {
    "collapsed": false
   },
   "outputs": [
    {
     "data": {
      "text/plain": [
       "pos\n",
       "INTJ        16\n",
       "NUM        286\n",
       "X          307\n",
       "SCONJ     1786\n",
       "PROPN     2451\n",
       "PART      3243\n",
       "CONJ      3758\n",
       "AUX       4457\n",
       "ADJ       5865\n",
       "ADP       6223\n",
       "SPACE     8170\n",
       "ADV       9623\n",
       "DET      10669\n",
       "PRON     11138\n",
       "VERB     12836\n",
       "NOUN     13596\n",
       "PUNCT    18616\n",
       "Name: count, dtype: int64"
      ]
     },
     "execution_count": 33,
     "metadata": {},
     "output_type": "execute_result"
    }
   ],
   "source": [
    "text_word_counts.groupby('pos').agg({'count': sum})['count'].sort_values()"
   ]
  },
  {
   "cell_type": "code",
   "execution_count": 16,
   "metadata": {
    "collapsed": false,
    "scrolled": false
   },
   "outputs": [
    {
     "data": {
      "text/html": [
       "<div>\n",
       "<table border=\"1\" class=\"dataframe\">\n",
       "  <thead>\n",
       "    <tr style=\"text-align: right;\">\n",
       "      <th></th>\n",
       "      <th>count</th>\n",
       "      <th>pos</th>\n",
       "      <th>word</th>\n",
       "    </tr>\n",
       "  </thead>\n",
       "  <tbody>\n",
       "    <tr>\n",
       "      <th>6332</th>\n",
       "      <td>8065</td>\n",
       "      <td>PUNCT</td>\n",
       "      <td>,</td>\n",
       "    </tr>\n",
       "    <tr>\n",
       "      <th>9456</th>\n",
       "      <td>6562</td>\n",
       "      <td>SPACE</td>\n",
       "      <td>\\n</td>\n",
       "    </tr>\n",
       "    <tr>\n",
       "      <th>6333</th>\n",
       "      <td>3924</td>\n",
       "      <td>PUNCT</td>\n",
       "      <td>.</td>\n",
       "    </tr>\n",
       "    <tr>\n",
       "      <th>2414</th>\n",
       "      <td>2678</td>\n",
       "      <td>CONJ</td>\n",
       "      <td>und</td>\n",
       "    </tr>\n",
       "    <tr>\n",
       "      <th>2436</th>\n",
       "      <td>2303</td>\n",
       "      <td>DET</td>\n",
       "      <td>die</td>\n",
       "    </tr>\n",
       "    <tr>\n",
       "      <th>6334</th>\n",
       "      <td>2179</td>\n",
       "      <td>PUNCT</td>\n",
       "      <td>«</td>\n",
       "    </tr>\n",
       "    <tr>\n",
       "      <th>5930</th>\n",
       "      <td>2089</td>\n",
       "      <td>PRON</td>\n",
       "      <td>sie</td>\n",
       "    </tr>\n",
       "    <tr>\n",
       "      <th>2437</th>\n",
       "      <td>1935</td>\n",
       "      <td>DET</td>\n",
       "      <td>der</td>\n",
       "    </tr>\n",
       "    <tr>\n",
       "      <th>6335</th>\n",
       "      <td>1925</td>\n",
       "      <td>PUNCT</td>\n",
       "      <td>»</td>\n",
       "    </tr>\n",
       "    <tr>\n",
       "      <th>9457</th>\n",
       "      <td>1553</td>\n",
       "      <td>SPACE</td>\n",
       "      <td>\\n\\n</td>\n",
       "    </tr>\n",
       "  </tbody>\n",
       "</table>\n",
       "</div>"
      ],
      "text/plain": [
       "      count    pos  word\n",
       "6332   8065  PUNCT     ,\n",
       "9456   6562  SPACE    \\n\n",
       "6333   3924  PUNCT     .\n",
       "2414   2678   CONJ   und\n",
       "2436   2303    DET   die\n",
       "6334   2179  PUNCT     «\n",
       "5930   2089   PRON   sie\n",
       "2437   1935    DET   der\n",
       "6335   1925  PUNCT     »\n",
       "9457   1553  SPACE  \\n\\n"
      ]
     },
     "execution_count": 16,
     "metadata": {},
     "output_type": "execute_result"
    }
   ],
   "source": [
    "text_word_counts.sort_values('count', ascending=False).head(10)"
   ]
  },
  {
   "cell_type": "code",
   "execution_count": 43,
   "metadata": {
    "collapsed": false
   },
   "outputs": [],
   "source": [
    "top_500 = (text_word_counts[~text_word_counts.pos.isin(['PUNCT', 'SPACE', 'X'])].\n",
    "   sort_values('count',ascending=False).\n",
    "   iloc[0:500]\n",
    ")"
   ]
  },
  {
   "cell_type": "code",
   "execution_count": 47,
   "metadata": {
    "collapsed": false
   },
   "outputs": [],
   "source": [
    "top_500_words = top_500.word.unique()"
   ]
  },
  {
   "cell_type": "code",
   "execution_count": 52,
   "metadata": {
    "collapsed": false
   },
   "outputs": [
    {
     "data": {
      "text/plain": [
       "array(['und', 'die', 'sie', 'der', 'nicht', 'er', 'es', 'in', 'ich', 'so',\n",
       "       'war', 'den', 'das', 'sich', 'ist', 'mit', 'dem', 'ein', 'sagte',\n",
       "       'daß', 'du', 'zu', 'auch', 'aber', 'hatte', 'auf', 'von', 'noch',\n",
       "       'wenn', 'doch', '’s', 'frau', 'an', 'nur', 'mutter', 'schon', 'im',\n",
       "       'ihm', 'eine', 'was', 'da', 'wie', 'nun', 'hat', 'dann', 'für',\n",
       "       'wieder', 'man', 'ihr', 'nach', 'wir', 'ihn', 'einen', 'ganz',\n",
       "       'jetzt', 'mir', 'ja', 'kam', 'bei', 'des', 'am', 'sah', 'seine',\n",
       "       'vater', 'gar', 'kind', 'als', 'habe', 'greiner', 'mann', 'wurde',\n",
       "       'aus', 'haben', 'sein', 'ging', 'mehr', 'vor', 'wohl', 'wollte',\n",
       "       'fragte', 'kann', 'wird', 'nichts', 'waren', 'konnte', 'denn',\n",
       "       'dir', 'über', 'hermann', 'immer', 'kinder', 'kleine', 'sind',\n",
       "       'haus', 'herr', 'einmal', 'ihre', 'will', 'zum', 'wo'], dtype=object)"
      ]
     },
     "execution_count": 52,
     "metadata": {},
     "output_type": "execute_result"
    }
   ],
   "source": [
    "top_500_words[0:100] ## need to remove entities?? or it doesn't matter?? -- people are in text etc\n",
    "                     ## will just have main characters and so on included??"
   ]
  },
  {
   "cell_type": "code",
   "execution_count": 62,
   "metadata": {
    "collapsed": false
   },
   "outputs": [],
   "source": [
    "sentences = doc.sents"
   ]
  },
  {
   "cell_type": "markdown",
   "metadata": {},
   "source": [
    "need to clean stuff out of sentences - large spaces etc"
   ]
  },
  {
   "cell_type": "code",
   "execution_count": 65,
   "metadata": {
    "collapsed": false
   },
   "outputs": [],
   "source": [
    "ex = next(sentences)"
   ]
  },
  {
   "cell_type": "code",
   "execution_count": 66,
   "metadata": {
    "collapsed": false
   },
   "outputs": [
    {
     "data": {
      "text/plain": [
       "Ja, er hatte\n",
       "sich mit allerlei fleißigen und faulen Schülern redlich geplagt, das\n",
       "ganze Jahr hindurch, hatte Violin- und Flöten-, Klavier- und\n",
       "Zitherstunden gegeben von frühmorgens bis spät abends."
      ]
     },
     "execution_count": 66,
     "metadata": {},
     "output_type": "execute_result"
    }
   ],
   "source": [
    "ex"
   ]
  },
  {
   "cell_type": "code",
   "execution_count": 90,
   "metadata": {
    "collapsed": false
   },
   "outputs": [
    {
     "data": {
      "text/plain": [
       "Ja, er hatte\n",
       "sich mit allerlei fleißigen und faulen Schülern redlich geplagt, das\n",
       "ganze Jahr hindurch, hatte Violin- und Flöten-, Klavier- und\n",
       "Zitherstunden gegeben von frühmorgens bis spät abends."
      ]
     },
     "execution_count": 90,
     "metadata": {},
     "output_type": "execute_result"
    }
   ],
   "source": [
    "ex"
   ]
  },
  {
   "cell_type": "code",
   "execution_count": 88,
   "metadata": {
    "collapsed": false
   },
   "outputs": [],
   "source": [
    "example_sentence = ex.text.replace('\\n',' ')"
   ]
  },
  {
   "cell_type": "code",
   "execution_count": 92,
   "metadata": {
    "collapsed": false
   },
   "outputs": [],
   "source": [
    "ex_doc = parser(example_sentence)"
   ]
  },
  {
   "cell_type": "code",
   "execution_count": 127,
   "metadata": {
    "collapsed": false
   },
   "outputs": [
    {
     "data": {
      "text/plain": [
       "Ja, er hatte sich mit allerlei fleißigen und faulen Schülern redlich geplagt, das ganze Jahr hindurch, hatte Violin- und Flöten-, Klavier- und Zitherstunden gegeben von frühmorgens bis spät abends."
      ]
     },
     "execution_count": 127,
     "metadata": {},
     "output_type": "execute_result"
    }
   ],
   "source": [
    "ex_doc"
   ]
  },
  {
   "cell_type": "code",
   "execution_count": null,
   "metadata": {
    "collapsed": true
   },
   "outputs": [],
   "source": []
  },
  {
   "cell_type": "code",
   "execution_count": 117,
   "metadata": {
    "collapsed": false
   },
   "outputs": [],
   "source": [
    "ex_lower_words = [token.lower_ for token in ex_doc]"
   ]
  },
  {
   "cell_type": "code",
   "execution_count": 121,
   "metadata": {
    "collapsed": false
   },
   "outputs": [
    {
     "data": {
      "text/plain": [
       "['ja',\n",
       " ',',\n",
       " 'er',\n",
       " 'hatte',\n",
       " 'sich',\n",
       " 'mit',\n",
       " 'allerlei',\n",
       " 'fleißigen',\n",
       " 'und',\n",
       " 'faulen',\n",
       " 'schülern',\n",
       " 'redlich',\n",
       " 'geplagt',\n",
       " ',',\n",
       " 'das',\n",
       " 'ganze',\n",
       " 'jahr',\n",
       " 'hindurch',\n",
       " ',',\n",
       " 'hatte',\n",
       " 'violin-',\n",
       " 'und',\n",
       " 'flöten-',\n",
       " ',',\n",
       " 'klavier-',\n",
       " 'und',\n",
       " 'zitherstunden',\n",
       " 'gegeben',\n",
       " 'von',\n",
       " 'frühmorgens',\n",
       " 'bis',\n",
       " 'spät',\n",
       " 'abends',\n",
       " '.']"
      ]
     },
     "execution_count": 121,
     "metadata": {},
     "output_type": "execute_result"
    }
   ],
   "source": [
    "ex_lower_words"
   ]
  },
  {
   "cell_type": "code",
   "execution_count": 120,
   "metadata": {
    "collapsed": false
   },
   "outputs": [
    {
     "data": {
      "text/plain": [
       "14"
      ]
     },
     "execution_count": 120,
     "metadata": {},
     "output_type": "execute_result"
    }
   ],
   "source": [
    "len([word for word in ex_lower_words if word in top_500_words])"
   ]
  },
  {
   "cell_type": "code",
   "execution_count": null,
   "metadata": {
    "collapsed": true
   },
   "outputs": [],
   "source": [
    "ex_lower_words"
   ]
  },
  {
   "cell_type": "code",
   "execution_count": null,
   "metadata": {
    "collapsed": true
   },
   "outputs": [],
   "source": [
    "## other chars to replace\n",
    "\n",
    "# _\n",
    "# »\n"
   ]
  },
  {
   "cell_type": "code",
   "execution_count": 181,
   "metadata": {
    "collapsed": false
   },
   "outputs": [],
   "source": [
    "punct = [',', '.', ';', ':', '-', '»']\n",
    "\n",
    "def word_proportion(sentence, word_list):\n",
    "    sentence_clean = sentence.text.replace('\\n', ' ').replace('_', '').replace('»', '').replace('«', '')\n",
    "    parsed_sentence = parser(sentence_clean)\n",
    "    ## drop punctuation...\n",
    "    sent_lower = [token.lower_ for token in parsed_sentence if token not in punct]\n",
    "    sent_len = len(sent_lower)\n",
    "    if sent_len <= 2:\n",
    "        return None\n",
    "    n_words = len([word for word in sent_lower if word in word_list])\n",
    "    #print('sentence word list proportion: {:.2f}'.format(n_words / sent_length))\n",
    "    #print(sentence_clean, end='\\n')\n",
    "    return pd.DataFrame({'sentence': [sentence_clean], \n",
    "                         'n_words': [n_words], \n",
    "                         'length': [sent_len],\n",
    "                         'proportion': [n_words / sent_len]})"
   ]
  },
  {
   "cell_type": "code",
   "execution_count": 138,
   "metadata": {
    "collapsed": false
   },
   "outputs": [
    {
     "data": {
      "text/plain": [
       "So ging Herr\n",
       "Pfäffling gleich von der Schule aus in die Buchhandlung, erwarb sich\n",
       "dort eine Karte vom Fichtelgebirge, und weil er sie schon auf dem Weg\n",
       "nach Hause studierte, so kam er später heim als sonst und fand die ganze\n",
       "Familie um den gedeckten Tisch versammelt."
      ]
     },
     "execution_count": 138,
     "metadata": {},
     "output_type": "execute_result"
    }
   ],
   "source": [
    "next(sentences)"
   ]
  },
  {
   "cell_type": "code",
   "execution_count": 157,
   "metadata": {
    "collapsed": false
   },
   "outputs": [
    {
     "data": {
      "text/html": [
       "<div>\n",
       "<table border=\"1\" class=\"dataframe\">\n",
       "  <thead>\n",
       "    <tr style=\"text-align: right;\">\n",
       "      <th></th>\n",
       "      <th>length</th>\n",
       "      <th>n_words</th>\n",
       "      <th>proportion</th>\n",
       "      <th>sentence</th>\n",
       "    </tr>\n",
       "  </thead>\n",
       "  <tbody>\n",
       "    <tr>\n",
       "      <th>0</th>\n",
       "      <td>11</td>\n",
       "      <td>7</td>\n",
       "      <td>0.636364</td>\n",
       "      <td>und doch können auch die Reisen im Geist jäh u...</td>\n",
       "    </tr>\n",
       "  </tbody>\n",
       "</table>\n",
       "</div>"
      ],
      "text/plain": [
       "   length  n_words  proportion  \\\n",
       "0      11        7    0.636364   \n",
       "\n",
       "                                            sentence  \n",
       "0  und doch können auch die Reisen im Geist jäh u...  "
      ]
     },
     "execution_count": 157,
     "metadata": {},
     "output_type": "execute_result"
    }
   ],
   "source": [
    "x = next(sentences)\n",
    "word_proportion(x, top_500_words)"
   ]
  },
  {
   "cell_type": "code",
   "execution_count": 183,
   "metadata": {
    "collapsed": false
   },
   "outputs": [],
   "source": [
    "sentences = doc.sents\n",
    "scored_sentences = pd.concat(word_proportion(sent, top_500_words) for sent in sentences)\n",
    "scored_sentences = scored_sentences.sort_values('proportion', ascending=False).reset_index(drop=True)"
   ]
  },
  {
   "cell_type": "code",
   "execution_count": 188,
   "metadata": {
    "collapsed": false
   },
   "outputs": [
    {
     "data": {
      "text/html": [
       "<div>\n",
       "<table border=\"1\" class=\"dataframe\">\n",
       "  <thead>\n",
       "    <tr style=\"text-align: right;\">\n",
       "      <th></th>\n",
       "      <th>length</th>\n",
       "      <th>n_words</th>\n",
       "      <th>proportion</th>\n",
       "      <th>sentence</th>\n",
       "    </tr>\n",
       "  </thead>\n",
       "  <tbody>\n",
       "    <tr>\n",
       "      <th>0</th>\n",
       "      <td>5</td>\n",
       "      <td>5</td>\n",
       "      <td>1.000000</td>\n",
       "      <td>Jetzt endlich waren sie an</td>\n",
       "    </tr>\n",
       "    <tr>\n",
       "      <th>1</th>\n",
       "      <td>3</td>\n",
       "      <td>3</td>\n",
       "      <td>1.000000</td>\n",
       "      <td>Herr und Frau</td>\n",
       "    </tr>\n",
       "    <tr>\n",
       "      <th>2</th>\n",
       "      <td>3</td>\n",
       "      <td>3</td>\n",
       "      <td>1.000000</td>\n",
       "      <td>Jetzt mußte sein</td>\n",
       "    </tr>\n",
       "    <tr>\n",
       "      <th>3</th>\n",
       "      <td>3</td>\n",
       "      <td>3</td>\n",
       "      <td>1.000000</td>\n",
       "      <td>Bis ans Haus</td>\n",
       "    </tr>\n",
       "    <tr>\n",
       "      <th>4</th>\n",
       "      <td>5</td>\n",
       "      <td>5</td>\n",
       "      <td>1.000000</td>\n",
       "      <td>Darf ich’s denn nicht</td>\n",
       "    </tr>\n",
       "    <tr>\n",
       "      <th>5</th>\n",
       "      <td>5</td>\n",
       "      <td>5</td>\n",
       "      <td>1.000000</td>\n",
       "      <td>Wenn nur die Patin so</td>\n",
       "    </tr>\n",
       "    <tr>\n",
       "      <th>6</th>\n",
       "      <td>3</td>\n",
       "      <td>3</td>\n",
       "      <td>1.000000</td>\n",
       "      <td>Bei dem Wort</td>\n",
       "    </tr>\n",
       "    <tr>\n",
       "      <th>7</th>\n",
       "      <td>4</td>\n",
       "      <td>4</td>\n",
       "      <td>1.000000</td>\n",
       "      <td>Man wird ihn doch</td>\n",
       "    </tr>\n",
       "    <tr>\n",
       "      <th>8</th>\n",
       "      <td>4</td>\n",
       "      <td>4</td>\n",
       "      <td>1.000000</td>\n",
       "      <td>Der Herr soll zu</td>\n",
       "    </tr>\n",
       "    <tr>\n",
       "      <th>9</th>\n",
       "      <td>3</td>\n",
       "      <td>3</td>\n",
       "      <td>1.000000</td>\n",
       "      <td>So etwas muß</td>\n",
       "    </tr>\n",
       "    <tr>\n",
       "      <th>10</th>\n",
       "      <td>11</td>\n",
       "      <td>10</td>\n",
       "      <td>0.909091</td>\n",
       "      <td>Da ging die Türe auf und die Mutter trat ein.</td>\n",
       "    </tr>\n",
       "    <tr>\n",
       "      <th>11</th>\n",
       "      <td>11</td>\n",
       "      <td>10</td>\n",
       "      <td>0.909091</td>\n",
       "      <td>Ich habe doch auch so viel an sie denken müssen.</td>\n",
       "    </tr>\n",
       "    <tr>\n",
       "      <th>12</th>\n",
       "      <td>10</td>\n",
       "      <td>9</td>\n",
       "      <td>0.900000</td>\n",
       "      <td>Regine dachte freilich an diesem Morgen kaum m...</td>\n",
       "    </tr>\n",
       "    <tr>\n",
       "      <th>13</th>\n",
       "      <td>10</td>\n",
       "      <td>9</td>\n",
       "      <td>0.900000</td>\n",
       "      <td>Und bei Nacht machte er sich an die Arbeit.</td>\n",
       "    </tr>\n",
       "    <tr>\n",
       "      <th>14</th>\n",
       "      <td>10</td>\n",
       "      <td>9</td>\n",
       "      <td>0.900000</td>\n",
       "      <td>Sie sahen ihr die Freude gleich am Gesicht an.</td>\n",
       "    </tr>\n",
       "    <tr>\n",
       "      <th>15</th>\n",
       "      <td>10</td>\n",
       "      <td>9</td>\n",
       "      <td>0.900000</td>\n",
       "      <td>Seine Schwester ist ja auch die Patin von Klär...</td>\n",
       "    </tr>\n",
       "    <tr>\n",
       "      <th>16</th>\n",
       "      <td>10</td>\n",
       "      <td>9</td>\n",
       "      <td>0.900000</td>\n",
       "      <td>Ich wollte auch einmal wieder bei meiner Frau ...</td>\n",
       "    </tr>\n",
       "    <tr>\n",
       "      <th>17</th>\n",
       "      <td>10</td>\n",
       "      <td>9</td>\n",
       "      <td>0.900000</td>\n",
       "      <td>Am nächsten Morgen wollte er sie gar nicht neh...</td>\n",
       "    </tr>\n",
       "    <tr>\n",
       "      <th>18</th>\n",
       "      <td>10</td>\n",
       "      <td>9</td>\n",
       "      <td>0.900000</td>\n",
       "      <td>Sie tat doch an dem Kind was sie konnte.</td>\n",
       "    </tr>\n",
       "    <tr>\n",
       "      <th>19</th>\n",
       "      <td>10</td>\n",
       "      <td>9</td>\n",
       "      <td>0.900000</td>\n",
       "      <td>Durch die mußte Klärchen mit dem Vormund gekom...</td>\n",
       "    </tr>\n",
       "    <tr>\n",
       "      <th>20</th>\n",
       "      <td>10</td>\n",
       "      <td>9</td>\n",
       "      <td>0.900000</td>\n",
       "      <td>Aber nicht gegen sie wandte sich nun der Pfarrer;</td>\n",
       "    </tr>\n",
       "    <tr>\n",
       "      <th>21</th>\n",
       "      <td>10</td>\n",
       "      <td>9</td>\n",
       "      <td>0.900000</td>\n",
       "      <td>Alles sagte sie sich in Gedanken noch einmal vor.</td>\n",
       "    </tr>\n",
       "    <tr>\n",
       "      <th>22</th>\n",
       "      <td>9</td>\n",
       "      <td>8</td>\n",
       "      <td>0.888889</td>\n",
       "      <td>Oder sollte es gar die von Klärchen sein?</td>\n",
       "    </tr>\n",
       "    <tr>\n",
       "      <th>23</th>\n",
       "      <td>9</td>\n",
       "      <td>8</td>\n",
       "      <td>0.888889</td>\n",
       "      <td>Da trat der Mann ans Bett seiner Frau.</td>\n",
       "    </tr>\n",
       "    <tr>\n",
       "      <th>24</th>\n",
       "      <td>9</td>\n",
       "      <td>8</td>\n",
       "      <td>0.888889</td>\n",
       "      <td>Ist der Vater nicht da oder die Mutter?</td>\n",
       "    </tr>\n",
       "    <tr>\n",
       "      <th>25</th>\n",
       "      <td>9</td>\n",
       "      <td>8</td>\n",
       "      <td>0.888889</td>\n",
       "      <td>Auch Greiner und seine Frau gingen miteinander...</td>\n",
       "    </tr>\n",
       "    <tr>\n",
       "      <th>26</th>\n",
       "      <td>9</td>\n",
       "      <td>8</td>\n",
       "      <td>0.888889</td>\n",
       "      <td>Es kam darauf keine Antwort von der Mutter.</td>\n",
       "    </tr>\n",
       "    <tr>\n",
       "      <th>27</th>\n",
       "      <td>9</td>\n",
       "      <td>8</td>\n",
       "      <td>0.888889</td>\n",
       "      <td>Kommen sie einmal mit mir in die Küche.</td>\n",
       "    </tr>\n",
       "    <tr>\n",
       "      <th>28</th>\n",
       "      <td>9</td>\n",
       "      <td>8</td>\n",
       "      <td>0.888889</td>\n",
       "      <td>Wir werden schon fertig; wenn der Tag nicht</td>\n",
       "    </tr>\n",
       "    <tr>\n",
       "      <th>29</th>\n",
       "      <td>9</td>\n",
       "      <td>8</td>\n",
       "      <td>0.888889</td>\n",
       "      <td>Dann muß man Klärchen mit ihm gehen lassen?</td>\n",
       "    </tr>\n",
       "    <tr>\n",
       "      <th>...</th>\n",
       "      <td>...</td>\n",
       "      <td>...</td>\n",
       "      <td>...</td>\n",
       "      <td>...</td>\n",
       "    </tr>\n",
       "    <tr>\n",
       "      <th>6017</th>\n",
       "      <td>5</td>\n",
       "      <td>1</td>\n",
       "      <td>0.200000</td>\n",
       "      <td>Was meinst, Georg?</td>\n",
       "    </tr>\n",
       "    <tr>\n",
       "      <th>6018</th>\n",
       "      <td>5</td>\n",
       "      <td>1</td>\n",
       "      <td>0.200000</td>\n",
       "      <td>fragte Ruppert.</td>\n",
       "    </tr>\n",
       "    <tr>\n",
       "      <th>6019</th>\n",
       "      <td>5</td>\n",
       "      <td>1</td>\n",
       "      <td>0.200000</td>\n",
       "      <td>Römer sagte lächelnd:</td>\n",
       "    </tr>\n",
       "    <tr>\n",
       "      <th>6020</th>\n",
       "      <td>5</td>\n",
       "      <td>1</td>\n",
       "      <td>0.200000</td>\n",
       "      <td>Alles schriftlich, natürlich.</td>\n",
       "    </tr>\n",
       "    <tr>\n",
       "      <th>6021</th>\n",
       "      <td>5</td>\n",
       "      <td>1</td>\n",
       "      <td>0.200000</td>\n",
       "      <td>keiner sonst heißt Elias.</td>\n",
       "    </tr>\n",
       "    <tr>\n",
       "      <th>6022</th>\n",
       "      <td>5</td>\n",
       "      <td>1</td>\n",
       "      <td>0.200000</td>\n",
       "      <td>Die Wochen vergingen;</td>\n",
       "    </tr>\n",
       "    <tr>\n",
       "      <th>6023</th>\n",
       "      <td>5</td>\n",
       "      <td>1</td>\n",
       "      <td>0.200000</td>\n",
       "      <td>Wieviel gäb’ das Wörter</td>\n",
       "    </tr>\n",
       "    <tr>\n",
       "      <th>6024</th>\n",
       "      <td>5</td>\n",
       "      <td>1</td>\n",
       "      <td>0.200000</td>\n",
       "      <td>Laß sehen, Bubi!</td>\n",
       "    </tr>\n",
       "    <tr>\n",
       "      <th>6025</th>\n",
       "      <td>10</td>\n",
       "      <td>2</td>\n",
       "      <td>0.200000</td>\n",
       "      <td>Statt Gründe vorzubringen, kommst du mit deine...</td>\n",
       "    </tr>\n",
       "    <tr>\n",
       "      <th>6026</th>\n",
       "      <td>5</td>\n",
       "      <td>1</td>\n",
       "      <td>0.200000</td>\n",
       "      <td>Zu irgend welchen Verwandten</td>\n",
       "    </tr>\n",
       "    <tr>\n",
       "      <th>6027</th>\n",
       "      <td>5</td>\n",
       "      <td>1</td>\n",
       "      <td>0.200000</td>\n",
       "      <td>Mit einbrechender Dunkelheit Stadtbeleuchtung –</td>\n",
       "    </tr>\n",
       "    <tr>\n",
       "      <th>6028</th>\n",
       "      <td>5</td>\n",
       "      <td>1</td>\n",
       "      <td>0.200000</td>\n",
       "      <td>Ein Feuerwehrmann steigt hinauf.</td>\n",
       "    </tr>\n",
       "    <tr>\n",
       "      <th>6029</th>\n",
       "      <td>6</td>\n",
       "      <td>1</td>\n",
       "      <td>0.166667</td>\n",
       "      <td>Schwesterkind an allem schuld.</td>\n",
       "    </tr>\n",
       "    <tr>\n",
       "      <th>6030</th>\n",
       "      <td>6</td>\n",
       "      <td>1</td>\n",
       "      <td>0.166667</td>\n",
       "      <td>Ach, sie wartete vergeblich.</td>\n",
       "    </tr>\n",
       "    <tr>\n",
       "      <th>6031</th>\n",
       "      <td>6</td>\n",
       "      <td>1</td>\n",
       "      <td>0.166667</td>\n",
       "      <td>Nein, aufs Feld wollt’</td>\n",
       "    </tr>\n",
       "    <tr>\n",
       "      <th>6032</th>\n",
       "      <td>6</td>\n",
       "      <td>1</td>\n",
       "      <td>0.166667</td>\n",
       "      <td>Ein aufgeweckter, netter Bursche;</td>\n",
       "    </tr>\n",
       "    <tr>\n",
       "      <th>6033</th>\n",
       "      <td>6</td>\n",
       "      <td>1</td>\n",
       "      <td>0.166667</td>\n",
       "      <td>Baldiger Bescheid wäre erwünscht.</td>\n",
       "    </tr>\n",
       "    <tr>\n",
       "      <th>6034</th>\n",
       "      <td>7</td>\n",
       "      <td>1</td>\n",
       "      <td>0.142857</td>\n",
       "      <td>Alljährlich steigender Lohn und beste Behandlung.</td>\n",
       "    </tr>\n",
       "    <tr>\n",
       "      <th>6035</th>\n",
       "      <td>7</td>\n",
       "      <td>1</td>\n",
       "      <td>0.142857</td>\n",
       "      <td>›Wollen Königliche Hoheit die Blumen annehmen‹;</td>\n",
       "    </tr>\n",
       "    <tr>\n",
       "      <th>6036</th>\n",
       "      <td>6</td>\n",
       "      <td>0</td>\n",
       "      <td>0.000000</td>\n",
       "      <td>Vertrauert, verträumt, verloren!</td>\n",
       "    </tr>\n",
       "    <tr>\n",
       "      <th>6037</th>\n",
       "      <td>3</td>\n",
       "      <td>0</td>\n",
       "      <td>0.000000</td>\n",
       "      <td>Faulenzen?</td>\n",
       "    </tr>\n",
       "    <tr>\n",
       "      <th>6038</th>\n",
       "      <td>3</td>\n",
       "      <td>0</td>\n",
       "      <td>0.000000</td>\n",
       "      <td>Plunder wirken.</td>\n",
       "    </tr>\n",
       "    <tr>\n",
       "      <th>6039</th>\n",
       "      <td>3</td>\n",
       "      <td>0</td>\n",
       "      <td>0.000000</td>\n",
       "      <td>Bahnhofstraße 5 p.</td>\n",
       "    </tr>\n",
       "    <tr>\n",
       "      <th>6040</th>\n",
       "      <td>4</td>\n",
       "      <td>0</td>\n",
       "      <td>0.000000</td>\n",
       "      <td>Schade, schade!</td>\n",
       "    </tr>\n",
       "    <tr>\n",
       "      <th>6041</th>\n",
       "      <td>3</td>\n",
       "      <td>0</td>\n",
       "      <td>0.000000</td>\n",
       "      <td>Archivar Rau.</td>\n",
       "    </tr>\n",
       "    <tr>\n",
       "      <th>6042</th>\n",
       "      <td>3</td>\n",
       "      <td>0</td>\n",
       "      <td>0.000000</td>\n",
       "      <td>II.</td>\n",
       "    </tr>\n",
       "    <tr>\n",
       "      <th>6043</th>\n",
       "      <td>4</td>\n",
       "      <td>0</td>\n",
       "      <td>0.000000</td>\n",
       "      <td>Philippchen, umwenden!</td>\n",
       "    </tr>\n",
       "    <tr>\n",
       "      <th>6044</th>\n",
       "      <td>4</td>\n",
       "      <td>0</td>\n",
       "      <td>0.000000</td>\n",
       "      <td>Moll, Kindergärtnerin.</td>\n",
       "    </tr>\n",
       "    <tr>\n",
       "      <th>6045</th>\n",
       "      <td>3</td>\n",
       "      <td>0</td>\n",
       "      <td>0.000000</td>\n",
       "      <td>Feuerschau.</td>\n",
       "    </tr>\n",
       "    <tr>\n",
       "      <th>6046</th>\n",
       "      <td>3</td>\n",
       "      <td>0</td>\n",
       "      <td>0.000000</td>\n",
       "      <td>Vergessen?</td>\n",
       "    </tr>\n",
       "  </tbody>\n",
       "</table>\n",
       "<p>6047 rows × 4 columns</p>\n",
       "</div>"
      ],
      "text/plain": [
       "      length  n_words  proportion  \\\n",
       "0          5        5    1.000000   \n",
       "1          3        3    1.000000   \n",
       "2          3        3    1.000000   \n",
       "3          3        3    1.000000   \n",
       "4          5        5    1.000000   \n",
       "5          5        5    1.000000   \n",
       "6          3        3    1.000000   \n",
       "7          4        4    1.000000   \n",
       "8          4        4    1.000000   \n",
       "9          3        3    1.000000   \n",
       "10        11       10    0.909091   \n",
       "11        11       10    0.909091   \n",
       "12        10        9    0.900000   \n",
       "13        10        9    0.900000   \n",
       "14        10        9    0.900000   \n",
       "15        10        9    0.900000   \n",
       "16        10        9    0.900000   \n",
       "17        10        9    0.900000   \n",
       "18        10        9    0.900000   \n",
       "19        10        9    0.900000   \n",
       "20        10        9    0.900000   \n",
       "21        10        9    0.900000   \n",
       "22         9        8    0.888889   \n",
       "23         9        8    0.888889   \n",
       "24         9        8    0.888889   \n",
       "25         9        8    0.888889   \n",
       "26         9        8    0.888889   \n",
       "27         9        8    0.888889   \n",
       "28         9        8    0.888889   \n",
       "29         9        8    0.888889   \n",
       "...      ...      ...         ...   \n",
       "6017       5        1    0.200000   \n",
       "6018       5        1    0.200000   \n",
       "6019       5        1    0.200000   \n",
       "6020       5        1    0.200000   \n",
       "6021       5        1    0.200000   \n",
       "6022       5        1    0.200000   \n",
       "6023       5        1    0.200000   \n",
       "6024       5        1    0.200000   \n",
       "6025      10        2    0.200000   \n",
       "6026       5        1    0.200000   \n",
       "6027       5        1    0.200000   \n",
       "6028       5        1    0.200000   \n",
       "6029       6        1    0.166667   \n",
       "6030       6        1    0.166667   \n",
       "6031       6        1    0.166667   \n",
       "6032       6        1    0.166667   \n",
       "6033       6        1    0.166667   \n",
       "6034       7        1    0.142857   \n",
       "6035       7        1    0.142857   \n",
       "6036       6        0    0.000000   \n",
       "6037       3        0    0.000000   \n",
       "6038       3        0    0.000000   \n",
       "6039       3        0    0.000000   \n",
       "6040       4        0    0.000000   \n",
       "6041       3        0    0.000000   \n",
       "6042       3        0    0.000000   \n",
       "6043       4        0    0.000000   \n",
       "6044       4        0    0.000000   \n",
       "6045       3        0    0.000000   \n",
       "6046       3        0    0.000000   \n",
       "\n",
       "                                               sentence  \n",
       "0                           Jetzt endlich waren sie an   \n",
       "1                                         Herr und Frau  \n",
       "2                                     Jetzt mußte sein   \n",
       "3                                          Bis ans Haus  \n",
       "4                                 Darf ich’s denn nicht  \n",
       "5                                 Wenn nur die Patin so  \n",
       "6                                         Bei dem Wort   \n",
       "7                                     Man wird ihn doch  \n",
       "8                                     Der Herr soll zu   \n",
       "9                                          So etwas muß  \n",
       "10        Da ging die Türe auf und die Mutter trat ein.  \n",
       "11     Ich habe doch auch so viel an sie denken müssen.  \n",
       "12    Regine dachte freilich an diesem Morgen kaum m...  \n",
       "13          Und bei Nacht machte er sich an die Arbeit.  \n",
       "14       Sie sahen ihr die Freude gleich am Gesicht an.  \n",
       "15    Seine Schwester ist ja auch die Patin von Klär...  \n",
       "16    Ich wollte auch einmal wieder bei meiner Frau ...  \n",
       "17    Am nächsten Morgen wollte er sie gar nicht neh...  \n",
       "18             Sie tat doch an dem Kind was sie konnte.  \n",
       "19    Durch die mußte Klärchen mit dem Vormund gekom...  \n",
       "20    Aber nicht gegen sie wandte sich nun der Pfarrer;  \n",
       "21    Alles sagte sie sich in Gedanken noch einmal vor.  \n",
       "22            Oder sollte es gar die von Klärchen sein?  \n",
       "23              Da trat der Mann ans Bett seiner Frau.   \n",
       "24              Ist der Vater nicht da oder die Mutter?  \n",
       "25    Auch Greiner und seine Frau gingen miteinander...  \n",
       "26          Es kam darauf keine Antwort von der Mutter.  \n",
       "27              Kommen sie einmal mit mir in die Küche.  \n",
       "28          Wir werden schon fertig; wenn der Tag nicht  \n",
       "29          Dann muß man Klärchen mit ihm gehen lassen?  \n",
       "...                                                 ...  \n",
       "6017                                 Was meinst, Georg?  \n",
       "6018                                  fragte Ruppert.    \n",
       "6019                             Römer sagte lächelnd:   \n",
       "6020                      Alles schriftlich, natürlich.  \n",
       "6021                          keiner sonst heißt Elias.  \n",
       "6022                              Die Wochen vergingen;  \n",
       "6023                            Wieviel gäb’ das Wörter  \n",
       "6024                                   Laß sehen, Bubi!  \n",
       "6025  Statt Gründe vorzubringen, kommst du mit deine...  \n",
       "6026                       Zu irgend welchen Verwandten  \n",
       "6027    Mit einbrechender Dunkelheit Stadtbeleuchtung –  \n",
       "6028                   Ein Feuerwehrmann steigt hinauf.  \n",
       "6029                   Schwesterkind an allem schuld.    \n",
       "6030                       Ach, sie wartete vergeblich.  \n",
       "6031                             Nein, aufs Feld wollt’  \n",
       "6032                  Ein aufgeweckter, netter Bursche;  \n",
       "6033                Baldiger Bescheid wäre erwünscht.    \n",
       "6034  Alljährlich steigender Lohn und beste Behandlung.  \n",
       "6035    ›Wollen Königliche Hoheit die Blumen annehmen‹;  \n",
       "6036                  Vertrauert, verträumt, verloren!   \n",
       "6037                                         Faulenzen?  \n",
       "6038                                    Plunder wirken.  \n",
       "6039                                 Bahnhofstraße 5 p.  \n",
       "6040                                    Schade, schade!  \n",
       "6041                                      Archivar Rau.  \n",
       "6042                                              II.    \n",
       "6043                             Philippchen, umwenden!  \n",
       "6044                             Moll, Kindergärtnerin.  \n",
       "6045                                     Feuerschau.     \n",
       "6046                                         Vergessen?  \n",
       "\n",
       "[6047 rows x 4 columns]"
      ]
     },
     "execution_count": 188,
     "metadata": {},
     "output_type": "execute_result"
    }
   ],
   "source": [
    "scored_sentences"
   ]
  },
  {
   "cell_type": "code",
   "execution_count": null,
   "metadata": {
    "collapsed": true
   },
   "outputs": [],
   "source": []
  }
 ],
 "metadata": {
  "kernelspec": {
   "display_name": "Python 3",
   "language": "python",
   "name": "python3"
  },
  "language_info": {
   "codemirror_mode": {
    "name": "ipython",
    "version": 3
   },
   "file_extension": ".py",
   "mimetype": "text/x-python",
   "name": "python",
   "nbconvert_exporter": "python",
   "pygments_lexer": "ipython3",
   "version": "3.5.1"
  }
 },
 "nbformat": 4,
 "nbformat_minor": 0
}
